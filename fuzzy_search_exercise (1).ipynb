{
  "nbformat": 4,
  "nbformat_minor": 0,
  "metadata": {
    "colab": {
      "provenance": []
    },
    "kernelspec": {
      "name": "python3",
      "display_name": "Python 3"
    },
    "language_info": {
      "name": "python"
    }
  },
  "cells": [
    {
      "cell_type": "code",
      "execution_count": null,
      "metadata": {
        "id": "kL1aOtwZxojT",
        "colab": {
          "base_uri": "https://localhost:8080/"
        },
        "outputId": "21ecdb28-a0e5-4dd5-b8e4-aef26608b396"
      },
      "outputs": [
        {
          "output_type": "stream",
          "name": "stdout",
          "text": [
            "\u001b[2K   \u001b[90m━━━━━━━━━━━━━━━━━━━━━━━━━━━━━━━━━━━━━━━━\u001b[0m \u001b[32m2.5/2.5 MB\u001b[0m \u001b[31m27.6 MB/s\u001b[0m eta \u001b[36m0:00:00\u001b[0m\n",
            "\u001b[2K   \u001b[90m━━━━━━━━━━━━━━━━━━━━━━━━━━━━━━━━━━━━━━━━\u001b[0m \u001b[32m49.3/49.3 kB\u001b[0m \u001b[31m2.9 MB/s\u001b[0m eta \u001b[36m0:00:00\u001b[0m\n",
            "\u001b[2K   \u001b[90m━━━━━━━━━━━━━━━━━━━━━━━━━━━━━━━━━━━━━━━━\u001b[0m \u001b[32m50.9/50.9 kB\u001b[0m \u001b[31m1.8 MB/s\u001b[0m eta \u001b[36m0:00:00\u001b[0m\n",
            "\u001b[2K   \u001b[90m━━━━━━━━━━━━━━━━━━━━━━━━━━━━━━━━━━━━━━━━\u001b[0m \u001b[32m1.2/1.2 MB\u001b[0m \u001b[31m17.4 MB/s\u001b[0m eta \u001b[36m0:00:00\u001b[0m\n",
            "\u001b[2K   \u001b[90m━━━━━━━━━━━━━━━━━━━━━━━━━━━━━━━━━━━━━━━━\u001b[0m \u001b[32m27.5/27.5 MB\u001b[0m \u001b[31m56.3 MB/s\u001b[0m eta \u001b[36m0:00:00\u001b[0m\n",
            "\u001b[?25h"
          ]
        }
      ],
      "source": [
        "!pip install langchain_community -q\n",
        "!pip install langchain_openai -q\n",
        "!pip install faiss-cpu -q\n"
      ]
    },
    {
      "cell_type": "code",
      "source": [
        "from google.colab import userdata\n",
        "import os\n",
        "os.environ['OPENAI_API_KEY'] = userdata.get('OPENAI_API_KEY')"
      ],
      "metadata": {
        "id": "O5FMd2Umxu_3"
      },
      "execution_count": null,
      "outputs": []
    },
    {
      "cell_type": "code",
      "source": [
        "# companies\n",
        "companies_revenues = [\n",
        "    {\"company_name\": \"Apex Innovations\", \"revenue\": 5320000},\n",
        "    {\"company_name\": \"Quantum Solutions\", \"revenue\": 7400000},\n",
        "    {\"company_name\": \"Vertex Dynamics\", \"revenue\": 9250000},\n",
        "    {\"company_name\": \"Nimbus Technologies\", \"revenue\": 6400000},\n",
        "    {\"company_name\": \"Pioneer Enterprises\", \"revenue\": 8100000},\n",
        "    {\"company_name\": \"Elevate Systems\", \"revenue\": 6900000},\n",
        "    {\"company_name\": \"Zenith Ventures\", \"revenue\": 8500000},\n",
        "    {\"company_name\": \"Orion Industries\", \"revenue\": 4700000},\n",
        "    {\"company_name\": \"Fusion Networks\", \"revenue\": 7800000},\n",
        "    {\"company_name\": \"Catalyst Corp\", \"revenue\": 6600000},\n",
        "    {\"company_name\": \"Stellar Dynamics\", \"revenue\": 9200000},\n",
        "    {\"company_name\": \"Optimus Holdings\", \"revenue\": 5500000},\n",
        "    {\"company_name\": \"Synergy Enterprises\", \"revenue\": 7200000},\n",
        "    {\"company_name\": \"Pinnacle Innovations\", \"revenue\": 8800000},\n",
        "    {\"company_name\": \"Genesis Solutions\", \"revenue\": 7600000},\n",
        "    {\"company_name\": \"Phoenix Technologies\", \"revenue\": 6400000},\n",
        "    {\"company_name\": \"Ascend Industries\", \"revenue\": 8300000},\n",
        "    {\"company_name\": \"Voyager Systems\", \"revenue\": 7100000},\n",
        "    {\"company_name\": \"Titan Enterprises\", \"revenue\": 9000000},\n",
        "    {\"company_name\": \"Nova Corp\", \"revenue\": 5800000},\n",
        "    {\"company_name\": \"Summit Holdings\", \"revenue\": 6700000},\n",
        "    {\"company_name\": \"Vortex Solutions\", \"revenue\": 7500000},\n",
        "    {\"company_name\": \"Cascade Ventures\", \"revenue\": 6200000},\n",
        "    {\"company_name\": \"Blaze Dynamics\", \"revenue\": 8200000},\n",
        "    {\"company_name\": \"Axiom Industries\", \"revenue\": 5900000},\n",
        "    {\"company_name\": \"Expanse Technologies\", \"revenue\": 8100000},\n",
        "    {\"company_name\": \"Orbit Innovations\", \"revenue\": 7300000},\n",
        "    {\"company_name\": \"Harbor Enterprises\", \"revenue\": 6500000},\n",
        "    {\"company_name\": \"Radiant Systems\", \"revenue\": 7900000},\n",
        "    {\"company_name\": \"Ignite Ventures\", \"revenue\": 8500000}\n",
        "]\n"
      ],
      "metadata": {
        "id": "YT8_Q4_Nx0U0"
      },
      "execution_count": null,
      "outputs": []
    },
    {
      "cell_type": "code",
      "source": [
        "!pip install fuzzywuzzy -q"
      ],
      "metadata": {
        "id": "EQiMBy25x4gu"
      },
      "execution_count": null,
      "outputs": []
    },
    {
      "cell_type": "code",
      "source": [
        "# 1. Implement a fuzzysearch using the library fuzzywuzzy and the function process.extract()\n",
        "# create a function named \"fix_name\" that takes in a mispelled\n",
        "# name and returns the correctly spelled version over a threashold of 60, else it returns 'Not found'"
      ],
      "metadata": {
        "id": "rMl5iZiUx6K7"
      },
      "execution_count": null,
      "outputs": []
    },
    {
      "cell_type": "code",
      "source": [
        "# 2. Users will ask information about a specific company to a chatbot interface\n",
        "# Write a prompt in chatgpt that extracts the name of the company found in the prompt\n",
        "# then create a function named \"extract_name\" that takes the prompt and returns company found\n",
        "# else it returns 'Not found'\n",
        "# EG \"What's the revenue of Axiom Industrees?\" -> \"Axiom Industrees\"\n"
      ],
      "metadata": {
        "id": "zYlA4ZA_yDia"
      },
      "execution_count": null,
      "outputs": []
    },
    {
      "cell_type": "code",
      "source": [
        "prompts = [ \"Tell me the revenue of Radiant Systems\",\n",
        "    \"What's the revenue of Axiom Industrees?\",\n",
        "    \"How much does Zenith Ventures make annually?\",\n",
        "    \"Can you provide the revenue for Elevate Systems?\",\n",
        "    \"Revenue of Pinnacle Innovashuns?\",\n",
        "    \"What is the annual revenue of Voyager Systems?\",\n",
        "    \"Give me the revenue of Orien Industries\",\n",
        "    \"How much does Apex Innovashuns earn?\",\n",
        "    \"Revenue for Blaze Dynamic\",\n",
        "    \"How much does Fusion Network earn yearly?\",\n",
        "    \"Annual revenue of Vortex Solutions\",\n",
        "    \"What's the revenue for Catalyst Corp?\",\n",
        "    \"Tell me the revenue of Summit Holding\",\n",
        "    \"How much does Nova Corp make?\"]"
      ],
      "metadata": {
        "id": "8KmokSrN1Mcs"
      },
      "execution_count": null,
      "outputs": []
    },
    {
      "cell_type": "code",
      "source": [
        "# 3. Run the functions created on the list prompts\n",
        "# EG \"What's the revenue of Axiom Industrees?\" -> Axiom Industrees, Axiom Industries"
      ],
      "metadata": {
        "id": "Yhog4RQU3Tze"
      },
      "execution_count": null,
      "outputs": []
    }
  ]
}